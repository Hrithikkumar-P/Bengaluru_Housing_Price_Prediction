{
 "cells": [
  {
   "cell_type": "code",
   "execution_count": null,
   "id": "5dedbf78-e3d3-4583-8b9f-cf2ed5fb3312",
   "metadata": {},
   "outputs": [],
   "source": [
    "import pandas as pd\n",
    "import numpy as np\n",
    "from matplotlib import pyplot as plt\n",
    "%matplotlib inline\n",
    "import matplotlib\n",
    "matplotlib.rcParams[\"figure.figsize\"] = (20,10)"
   ]
  },
  {
   "cell_type": "code",
   "execution_count": null,
   "id": "a606384b-b1cc-4b95-adce-f75a1839e5f3",
   "metadata": {},
   "outputs": [],
   "source": [
    "df = pd.read_csv('C:\\\\Personal\\\\Projects\\\\Datasets\\\\Bengaluru_House_Price\\\\Bengaluru_House_Data.csv')\n",
    "df.head(10)"
   ]
  },
  {
   "cell_type": "code",
   "execution_count": null,
   "id": "fbaebc34-31e5-47c2-bba5-2cdb5cea6bd3",
   "metadata": {},
   "outputs": [],
   "source": [
    "df.shape"
   ]
  },
  {
   "cell_type": "code",
   "execution_count": null,
   "id": "dd9cf7f4-6def-44ad-ae2a-c0a34539a08a",
   "metadata": {},
   "outputs": [],
   "source": [
    "df.groupby(['area_type','size'])['area_type'].agg('count')"
   ]
  },
  {
   "cell_type": "code",
   "execution_count": null,
   "id": "ac2810ab-3ed9-41ae-b4ba-0db35c482f5e",
   "metadata": {},
   "outputs": [],
   "source": [
    "# Removed unwanted features\n",
    "df2 =  df.drop(['area_type','availability','society'], axis = 'columns')\n",
    "df2.head(6)"
   ]
  },
  {
   "cell_type": "code",
   "execution_count": null,
   "id": "ee3f17ea-8000-47b9-9005-a762b75080a3",
   "metadata": {},
   "outputs": [],
   "source": [
    "df2.isnull().sum()"
   ]
  },
  {
   "cell_type": "code",
   "execution_count": null,
   "id": "f0639fd9-01a0-465a-9f47-1b73a93a5e43",
   "metadata": {},
   "outputs": [],
   "source": [
    "# After dropping null values\n",
    "df3 = df2.dropna()\n",
    "df3.head(10)"
   ]
  },
  {
   "cell_type": "code",
   "execution_count": null,
   "id": "4f2f1b45-c2f5-4c8b-94bc-99d8132715b7",
   "metadata": {},
   "outputs": [],
   "source": [
    "df3.shape"
   ]
  },
  {
   "cell_type": "code",
   "execution_count": null,
   "id": "950380b3-dd40-48be-a0fe-b527a27bd114",
   "metadata": {},
   "outputs": [],
   "source": [
    "df3.isna().sum()"
   ]
  },
  {
   "cell_type": "code",
   "execution_count": null,
   "id": "3c03b3b2-21af-48d8-906e-7cd9b760b99b",
   "metadata": {},
   "outputs": [],
   "source": [
    "df3['size'].unique()"
   ]
  },
  {
   "cell_type": "code",
   "execution_count": null,
   "id": "8148e48e-8c6a-4759-9dfc-4b80a4b417b1",
   "metadata": {},
   "outputs": [],
   "source": [
    "df3['BHK'] = df3['size'].apply(lambda x: int(x.split(' ')[0]))"
   ]
  },
  {
   "cell_type": "code",
   "execution_count": null,
   "id": "9a639c0b-ccfc-4f93-81fc-92dd20817465",
   "metadata": {},
   "outputs": [],
   "source": [
    "df3.head()"
   ]
  },
  {
   "cell_type": "code",
   "execution_count": null,
   "id": "9da768a0-b36d-44c4-acb5-0ec09337e144",
   "metadata": {},
   "outputs": [],
   "source": [
    "# Replacing BHK column for size feature\n",
    "df4 = df3.drop('size',axis='columns')\n",
    "df4.head()"
   ]
  },
  {
   "cell_type": "code",
   "execution_count": null,
   "id": "7d176424-5a6f-485e-bbaa-02e29d0c7711",
   "metadata": {},
   "outputs": [],
   "source": [
    "df4[df4.BHK<=3]"
   ]
  },
  {
   "cell_type": "code",
   "execution_count": null,
   "id": "463a7dbe-26e8-446c-9f92-c3fd2edaf57f",
   "metadata": {},
   "outputs": [],
   "source": [
    "df4['total_sqft'].unique()"
   ]
  },
  {
   "cell_type": "code",
   "execution_count": null,
   "id": "e80dbc46-1d0a-4251-8693-0f818d8b6933",
   "metadata": {},
   "outputs": [],
   "source": [
    "def is_float(x):\n",
    "    try:\n",
    "        float(x)\n",
    "    except:\n",
    "        return False\n",
    "    return True"
   ]
  },
  {
   "cell_type": "code",
   "execution_count": null,
   "id": "e2e42890-152f-4473-9ba3-703073b4d72b",
   "metadata": {},
   "outputs": [],
   "source": [
    "df4[~df4.total_sqft.apply(lambda x: is_float(x))].head()"
   ]
  },
  {
   "cell_type": "code",
   "execution_count": null,
   "id": "14e093a3-ac71-4d5b-accc-70341316c640",
   "metadata": {},
   "outputs": [],
   "source": [
    "def convert_sqft_into_nums(x):\n",
    "    x_split = x.split('-')\n",
    "    if len(x_split) == 2:\n",
    "        return float(float(x_split[0]) + float(x_split[1]))/2\n",
    "    try:\n",
    "        return float(x)\n",
    "    except:\n",
    "        return None"
   ]
  },
  {
   "cell_type": "code",
   "execution_count": null,
   "id": "36c86724-f976-432c-a4dd-49da170470b8",
   "metadata": {},
   "outputs": [],
   "source": [
    "df4['total_sqft'] = df4['total_sqft'].apply(convert_sqft_into_nums)\n",
    "df4.head()"
   ]
  },
  {
   "cell_type": "code",
   "execution_count": null,
   "id": "363a3984-f725-43cd-ab6e-84a3b4bea1a2",
   "metadata": {},
   "outputs": [],
   "source": [
    "df4[~df4.total_sqft.apply(lambda x: is_float(x))].head()"
   ]
  },
  {
   "cell_type": "code",
   "execution_count": null,
   "id": "480d6484-0920-4855-ad14-c1536fd5930b",
   "metadata": {},
   "outputs": [],
   "source": []
  }
 ],
 "metadata": {
  "kernelspec": {
   "display_name": "Python 3 (ipykernel)",
   "language": "python",
   "name": "python3"
  },
  "language_info": {
   "codemirror_mode": {
    "name": "ipython",
    "version": 3
   },
   "file_extension": ".py",
   "mimetype": "text/x-python",
   "name": "python",
   "nbconvert_exporter": "python",
   "pygments_lexer": "ipython3",
   "version": "3.11.9"
  }
 },
 "nbformat": 4,
 "nbformat_minor": 5
}
